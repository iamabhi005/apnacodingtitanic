{
 "cells": [
  {
   "cell_type": "code",
   "execution_count": 2,
   "id": "3dc800fd-74bb-4158-9315-c31a1f303f86",
   "metadata": {},
   "outputs": [],
   "source": [
    "import pandas as pd\n",
    "import matplotlib.pyplot as plt\n",
    "import time\n",
    "import os\n",
    "import seaborn as sns"
   ]
  },
  {
   "cell_type": "code",
   "execution_count": 3,
   "id": "3b443fb1-1ff5-4d9a-b551-5490508dd2c4",
   "metadata": {},
   "outputs": [
    {
     "name": "stdout",
     "output_type": "stream",
     "text": [
      "<class 'pandas.core.frame.DataFrame'>\n",
      "RangeIndex: 148 entries, 0 to 147\n",
      "Data columns (total 13 columns):\n",
      " #   Column                     Non-Null Count  Dtype  \n",
      "---  ------                     --------------  -----  \n",
      " 0   Ad Account Name            141 non-null    object \n",
      " 1   Campaign name              139 non-null    object \n",
      " 2   Delivery status            141 non-null    object \n",
      " 3   Delivery level             141 non-null    object \n",
      " 4   Reach                      141 non-null    float64\n",
      " 5   Outbound clicks            139 non-null    float64\n",
      " 6   Outbond type               139 non-null    float64\n",
      " 7   Result type                141 non-null    object \n",
      " 8   Results                    141 non-null    float64\n",
      " 9   Cost per result            141 non-null    float64\n",
      " 10  Amount spent (AED)         141 non-null    float64\n",
      " 11  CPC (cost per link click)  139 non-null    float64\n",
      " 12  dates                      141 non-null    object \n",
      "dtypes: float64(7), object(6)\n",
      "memory usage: 15.2+ KB\n"
     ]
    }
   ],
   "source": [
    "df = pd.read_csv('Marketing Campaign Data All Accounts (2023-2024)(Detail1).csv')\n",
    "df.info()"
   ]
  },
  {
   "cell_type": "code",
   "execution_count": 4,
   "id": "35830bd6-3174-4abe-b1c1-e43aa52ed42e",
   "metadata": {},
   "outputs": [
    {
     "data": {
      "text/plain": [
       "Ad Account Name              7\n",
       "Campaign name                9\n",
       "Delivery status              7\n",
       "Delivery level               7\n",
       "Reach                        7\n",
       "Outbound clicks              9\n",
       "Outbond type                 9\n",
       "Result type                  7\n",
       "Results                      7\n",
       "Cost per result              7\n",
       "Amount spent (AED)           7\n",
       "CPC (cost per link click)    9\n",
       "dates                        7\n",
       "dtype: int64"
      ]
     },
     "execution_count": 4,
     "metadata": {},
     "output_type": "execute_result"
    }
   ],
   "source": [
    "df.isnull().sum()\n"
   ]
  },
  {
   "cell_type": "code",
   "execution_count": 5,
   "id": "833136af-74f8-4a73-8ac7-2b3e160cd309",
   "metadata": {},
   "outputs": [
    {
     "data": {
      "text/html": [
       "<div>\n",
       "<style scoped>\n",
       "    .dataframe tbody tr th:only-of-type {\n",
       "        vertical-align: middle;\n",
       "    }\n",
       "\n",
       "    .dataframe tbody tr th {\n",
       "        vertical-align: top;\n",
       "    }\n",
       "\n",
       "    .dataframe thead th {\n",
       "        text-align: right;\n",
       "    }\n",
       "</style>\n",
       "<table border=\"1\" class=\"dataframe\">\n",
       "  <thead>\n",
       "    <tr style=\"text-align: right;\">\n",
       "      <th></th>\n",
       "      <th>Ad Account Name</th>\n",
       "      <th>Campaign name</th>\n",
       "      <th>Delivery status</th>\n",
       "      <th>Delivery level</th>\n",
       "      <th>Reach</th>\n",
       "      <th>Outbound clicks</th>\n",
       "      <th>Outbond type</th>\n",
       "      <th>Result type</th>\n",
       "      <th>Results</th>\n",
       "      <th>Cost per result</th>\n",
       "      <th>Amount spent (AED)</th>\n",
       "      <th>CPC (cost per link click)</th>\n",
       "      <th>dates</th>\n",
       "    </tr>\n",
       "  </thead>\n",
       "  <tbody>\n",
       "    <tr>\n",
       "      <th>0</th>\n",
       "      <td>SLU</td>\n",
       "      <td>NaN</td>\n",
       "      <td>completed</td>\n",
       "      <td>campaign</td>\n",
       "      <td>0.0</td>\n",
       "      <td>1815.0</td>\n",
       "      <td>1310.0</td>\n",
       "      <td>Website applications submitted</td>\n",
       "      <td>386.0</td>\n",
       "      <td>1.910959</td>\n",
       "      <td>737.63</td>\n",
       "      <td>0.406184</td>\n",
       "      <td>1070</td>\n",
       "    </tr>\n",
       "    <tr>\n",
       "      <th>1</th>\n",
       "      <td>SLU</td>\n",
       "      <td>Digital Marketing Intern</td>\n",
       "      <td>completed</td>\n",
       "      <td>campaign</td>\n",
       "      <td>180175.0</td>\n",
       "      <td>3378.0</td>\n",
       "      <td>2152.0</td>\n",
       "      <td>Website applications submitted</td>\n",
       "      <td>598.0</td>\n",
       "      <td>1.233495</td>\n",
       "      <td>737.63</td>\n",
       "      <td>0.217976</td>\n",
       "      <td>2023-01-01</td>\n",
       "    </tr>\n",
       "    <tr>\n",
       "      <th>2</th>\n",
       "      <td>SLU</td>\n",
       "      <td>Digital Marketing Inter</td>\n",
       "      <td>inactive</td>\n",
       "      <td>campaign</td>\n",
       "      <td>173118.0</td>\n",
       "      <td>3591.0</td>\n",
       "      <td>2767.0</td>\n",
       "      <td>Website applications submitted</td>\n",
       "      <td>514.0</td>\n",
       "      <td>1.745914</td>\n",
       "      <td>897.40</td>\n",
       "      <td>0.249486</td>\n",
       "      <td>2023-01-01</td>\n",
       "    </tr>\n",
       "    <tr>\n",
       "      <th>3</th>\n",
       "      <td>SLU</td>\n",
       "      <td>Brand Awareness</td>\n",
       "      <td>inactive</td>\n",
       "      <td>campaign</td>\n",
       "      <td>18355415.0</td>\n",
       "      <td>5431.0</td>\n",
       "      <td>1019.0</td>\n",
       "      <td>Reach</td>\n",
       "      <td>18355415.0</td>\n",
       "      <td>0.092997</td>\n",
       "      <td>1707.00</td>\n",
       "      <td>0.309744</td>\n",
       "      <td>2023-01-01</td>\n",
       "    </tr>\n",
       "    <tr>\n",
       "      <th>4</th>\n",
       "      <td>SLU</td>\n",
       "      <td>Data Analyst Associate Internship</td>\n",
       "      <td>inactive</td>\n",
       "      <td>campaign</td>\n",
       "      <td>2448.0</td>\n",
       "      <td>111.0</td>\n",
       "      <td>62.0</td>\n",
       "      <td>Website leads</td>\n",
       "      <td>1.0</td>\n",
       "      <td>5.430000</td>\n",
       "      <td>5.43</td>\n",
       "      <td>0.048919</td>\n",
       "      <td>2023-01-01</td>\n",
       "    </tr>\n",
       "  </tbody>\n",
       "</table>\n",
       "</div>"
      ],
      "text/plain": [
       "  Ad Account Name                      Campaign name Delivery status  \\\n",
       "0             SLU                                NaN       completed   \n",
       "1             SLU          Digital Marketing Intern        completed   \n",
       "2             SLU            Digital Marketing Inter        inactive   \n",
       "3             SLU                    Brand Awareness        inactive   \n",
       "4             SLU  Data Analyst Associate Internship        inactive   \n",
       "\n",
       "  Delivery level       Reach  Outbound clicks  Outbond type  \\\n",
       "0       campaign         0.0           1815.0        1310.0   \n",
       "1       campaign    180175.0           3378.0        2152.0   \n",
       "2       campaign    173118.0           3591.0        2767.0   \n",
       "3       campaign  18355415.0           5431.0        1019.0   \n",
       "4       campaign      2448.0            111.0          62.0   \n",
       "\n",
       "                      Result type     Results  Cost per result  \\\n",
       "0  Website applications submitted       386.0         1.910959   \n",
       "1  Website applications submitted       598.0         1.233495   \n",
       "2  Website applications submitted       514.0         1.745914   \n",
       "3                           Reach  18355415.0         0.092997   \n",
       "4                   Website leads         1.0         5.430000   \n",
       "\n",
       "   Amount spent (AED)  CPC (cost per link click)       dates  \n",
       "0              737.63                   0.406184        1070  \n",
       "1              737.63                   0.217976  2023-01-01  \n",
       "2              897.40                   0.249486  2023-01-01  \n",
       "3             1707.00                   0.309744  2023-01-01  \n",
       "4                5.43                   0.048919  2023-01-01  "
      ]
     },
     "execution_count": 5,
     "metadata": {},
     "output_type": "execute_result"
    }
   ],
   "source": [
    "df.head()"
   ]
  },
  {
   "cell_type": "code",
   "execution_count": 6,
   "id": "618e4a32-3413-4c2f-831a-b72cc516e9d2",
   "metadata": {},
   "outputs": [
    {
     "data": {
      "text/html": [
       "<div>\n",
       "<style scoped>\n",
       "    .dataframe tbody tr th:only-of-type {\n",
       "        vertical-align: middle;\n",
       "    }\n",
       "\n",
       "    .dataframe tbody tr th {\n",
       "        vertical-align: top;\n",
       "    }\n",
       "\n",
       "    .dataframe thead th {\n",
       "        text-align: right;\n",
       "    }\n",
       "</style>\n",
       "<table border=\"1\" class=\"dataframe\">\n",
       "  <thead>\n",
       "    <tr style=\"text-align: right;\">\n",
       "      <th></th>\n",
       "      <th>Reach</th>\n",
       "      <th>Outbound clicks</th>\n",
       "      <th>Outbond type</th>\n",
       "      <th>Results</th>\n",
       "      <th>Cost per result</th>\n",
       "      <th>Amount spent (AED)</th>\n",
       "      <th>CPC (cost per link click)</th>\n",
       "    </tr>\n",
       "  </thead>\n",
       "  <tbody>\n",
       "    <tr>\n",
       "      <th>count</th>\n",
       "      <td>1.410000e+02</td>\n",
       "      <td>139.000000</td>\n",
       "      <td>139.000000</td>\n",
       "      <td>1.410000e+02</td>\n",
       "      <td>141.000000</td>\n",
       "      <td>141.000000</td>\n",
       "      <td>139.000000</td>\n",
       "    </tr>\n",
       "    <tr>\n",
       "      <th>mean</th>\n",
       "      <td>1.702121e+06</td>\n",
       "      <td>3683.201439</td>\n",
       "      <td>2113.971223</td>\n",
       "      <td>1.294443e+06</td>\n",
       "      <td>4.163970</td>\n",
       "      <td>2399.955390</td>\n",
       "      <td>1.046487</td>\n",
       "    </tr>\n",
       "    <tr>\n",
       "      <th>std</th>\n",
       "      <td>1.208556e+07</td>\n",
       "      <td>6161.006573</td>\n",
       "      <td>3634.395498</td>\n",
       "      <td>1.212064e+07</td>\n",
       "      <td>4.982312</td>\n",
       "      <td>3951.404963</td>\n",
       "      <td>0.925947</td>\n",
       "    </tr>\n",
       "    <tr>\n",
       "      <th>min</th>\n",
       "      <td>0.000000e+00</td>\n",
       "      <td>14.000000</td>\n",
       "      <td>1.000000</td>\n",
       "      <td>1.000000e+00</td>\n",
       "      <td>0.003665</td>\n",
       "      <td>0.990000</td>\n",
       "      <td>0.048919</td>\n",
       "    </tr>\n",
       "    <tr>\n",
       "      <th>25%</th>\n",
       "      <td>4.350800e+04</td>\n",
       "      <td>531.000000</td>\n",
       "      <td>260.500000</td>\n",
       "      <td>1.610000e+02</td>\n",
       "      <td>1.283100</td>\n",
       "      <td>469.180000</td>\n",
       "      <td>0.427980</td>\n",
       "    </tr>\n",
       "    <tr>\n",
       "      <th>50%</th>\n",
       "      <td>1.483570e+05</td>\n",
       "      <td>1604.000000</td>\n",
       "      <td>868.000000</td>\n",
       "      <td>3.820000e+02</td>\n",
       "      <td>2.920683</td>\n",
       "      <td>1222.500000</td>\n",
       "      <td>0.761458</td>\n",
       "    </tr>\n",
       "    <tr>\n",
       "      <th>75%</th>\n",
       "      <td>4.222920e+05</td>\n",
       "      <td>3202.500000</td>\n",
       "      <td>1788.500000</td>\n",
       "      <td>1.920000e+03</td>\n",
       "      <td>5.509500</td>\n",
       "      <td>2205.000000</td>\n",
       "      <td>1.352983</td>\n",
       "    </tr>\n",
       "    <tr>\n",
       "      <th>max</th>\n",
       "      <td>1.418353e+08</td>\n",
       "      <td>38284.000000</td>\n",
       "      <td>21140.000000</td>\n",
       "      <td>1.420000e+08</td>\n",
       "      <td>47.089490</td>\n",
       "      <td>25531.470000</td>\n",
       "      <td>5.597563</td>\n",
       "    </tr>\n",
       "  </tbody>\n",
       "</table>\n",
       "</div>"
      ],
      "text/plain": [
       "              Reach  Outbound clicks  Outbond type       Results  \\\n",
       "count  1.410000e+02       139.000000    139.000000  1.410000e+02   \n",
       "mean   1.702121e+06      3683.201439   2113.971223  1.294443e+06   \n",
       "std    1.208556e+07      6161.006573   3634.395498  1.212064e+07   \n",
       "min    0.000000e+00        14.000000      1.000000  1.000000e+00   \n",
       "25%    4.350800e+04       531.000000    260.500000  1.610000e+02   \n",
       "50%    1.483570e+05      1604.000000    868.000000  3.820000e+02   \n",
       "75%    4.222920e+05      3202.500000   1788.500000  1.920000e+03   \n",
       "max    1.418353e+08     38284.000000  21140.000000  1.420000e+08   \n",
       "\n",
       "       Cost per result  Amount spent (AED)  CPC (cost per link click)  \n",
       "count       141.000000          141.000000                 139.000000  \n",
       "mean          4.163970         2399.955390                   1.046487  \n",
       "std           4.982312         3951.404963                   0.925947  \n",
       "min           0.003665            0.990000                   0.048919  \n",
       "25%           1.283100          469.180000                   0.427980  \n",
       "50%           2.920683         1222.500000                   0.761458  \n",
       "75%           5.509500         2205.000000                   1.352983  \n",
       "max          47.089490        25531.470000                   5.597563  "
      ]
     },
     "execution_count": 6,
     "metadata": {},
     "output_type": "execute_result"
    }
   ],
   "source": [
    "df.describe()"
   ]
  },
  {
   "cell_type": "code",
   "execution_count": 7,
   "id": "e26bd4f1-31d4-4bf8-9753-9d0bac8330b0",
   "metadata": {},
   "outputs": [
    {
     "name": "stdout",
     "output_type": "stream",
     "text": [
      "Dataset last updated on: 2025-08-09 22:44:12\n"
     ]
    }
   ],
   "source": [
    "timestamp = os.path.getmtime('Marketing Campaign Data All Accounts (2023-2024)(Detail1).csv')\n",
    "\n",
    "df = time.strftime('%Y-%m-%d %H:%M:%S', time.localtime(timestamp))\n",
    "\n",
    "print(f\"Dataset last updated on: {df}\")"
   ]
  },
  {
   "cell_type": "code",
   "execution_count": 8,
   "id": "789689ef-d9d7-432c-be12-c1fb0e975a1a",
   "metadata": {},
   "outputs": [
    {
     "data": {
      "text/plain": [
       "Reach                        1.208556e+07\n",
       "Outbound clicks              6.161007e+03\n",
       "Outbond type                 3.634395e+03\n",
       "Results                      1.212064e+07\n",
       "Cost per result              4.982312e+00\n",
       "Amount spent (AED)           3.951405e+03\n",
       "CPC (cost per link click)    9.259467e-01\n",
       "dtype: float64"
      ]
     },
     "execution_count": 8,
     "metadata": {},
     "output_type": "execute_result"
    }
   ],
   "source": [
    "df = pd.read_csv(\"Marketing Campaign Data All Accounts (2023-2024)(Detail1).csv\")\n",
    "\n",
    "df.mean(numeric_only=True)\n",
    "df.median(numeric_only=True)\n",
    "df.min(numeric_only=True)\n",
    "df.max(numeric_only=True)\n",
    "df.std(numeric_only=True)"
   ]
  },
  {
   "cell_type": "code",
   "execution_count": 9,
   "id": "dc16307c-a861-4ef3-bb17-9d194f4e72b5",
   "metadata": {},
   "outputs": [
    {
     "name": "stdout",
     "output_type": "stream",
     "text": [
      "\n",
      "Column: Ad Account Name\n",
      "Ad Account Name\n",
      "SLU                91\n",
      "Brand Awareness    26\n",
      "RIT                24\n",
      "Name: count, dtype: int64\n",
      "\n",
      "Column: Campaign name\n",
      "Campaign name\n",
      "Digital Marketing Intern                                        2\n",
      "EVENT: Social Impact Initiative                                 2\n",
      "AeroFlow Challenge                                              2\n",
      "Dec | Materclasses | Block Chain Essentials Masterclass         2\n",
      "NOV COMPETITION - Storytelling                                  1\n",
      "                                                               ..\n",
      "DEC Power Skill Courses: RIT � Carousel                         1\n",
      "DEC Events - Work 2030                                          1\n",
      "Dec | Power Skill Course | Secrets to Operational Excellence    1\n",
      "DEC | Power Course | Emotional Intelligence                     1\n",
      "Virtual INTERNSHIP: RIT October_Internship                      1\n",
      "Name: count, Length: 135, dtype: int64\n",
      "\n",
      "Column: Delivery status\n",
      "Delivery status\n",
      "completed             86\n",
      "inactive              37\n",
      "active                10\n",
      "not_delivering         4\n",
      "archived               3\n",
      "recently_completed     1\n",
      "Name: count, dtype: int64\n",
      "\n",
      "Column: Delivery level\n",
      "Delivery level\n",
      "campaign    141\n",
      "Name: count, dtype: int64\n",
      "\n",
      "Column: Result type\n",
      "Result type\n",
      "Website applications submitted       104\n",
      "Website leads                         15\n",
      "ThruPlay                              15\n",
      "Reach                                  6\n",
      "Estimated ad recall lift (people)      1\n",
      "Name: count, dtype: int64\n",
      "\n",
      "Column: dates\n",
      "dates\n",
      "2023-01-01    140\n",
      "1070            1\n",
      "Name: count, dtype: int64\n"
     ]
    }
   ],
   "source": [
    "for col in df.select_dtypes(include='object'):\n",
    "    print(f\"\\nColumn: {col}\")\n",
    "    print(df[col].value_counts())"
   ]
  },
  {
   "cell_type": "code",
   "execution_count": 10,
   "id": "fe263392-0a8d-4d79-a2e9-705b66249a82",
   "metadata": {},
   "outputs": [
    {
     "data": {
      "image/png": "[encoded data removed]",
      "text/plain": [
       "<Figure size 800x600 with 1 Axes>"
      ]
     },
     "metadata": {},
     "output_type": "display_data"
    }
   ],
   "source": [
    "df = pd.read_csv(\"Marketing Campaign Data All Accounts (2023-2024)(Detail1).csv\")\n",
    "plt.figure(figsize=(8,6))\n",
    "\n",
    "sns.histplot(df['Reach'], bins=10, kde=True, color='skyblue')\n",
    "\n",
    "plt.title(\"reach Distribution\")\n",
    "plt.xlabel(\"reach\")\n",
    "plt.ylabel(\"Count\")\n",
    "plt.show()"
   ]
  },
  {
   "cell_type": "code",
   "execution_count": 11,
   "id": "2402eb93-d0fb-4e16-8b18-73c6b3a69b76",
   "metadata": {},
   "outputs": [
    {
     "name": "stderr",
     "output_type": "stream",
     "text": [
      "/var/folders/cv/f10dxg6n6792w37w962hp_n00000gn/T/ipykernel_1067/860274354.py:4: UserWarning: Ignoring `palette` because no `hue` variable has been assigned.\n",
      "  sns.histplot(x='Amount spent (AED)', data=df, palette='Set2')\n"
     ]
    },
    {
     "data": {
      "image/png": "[encoded data removed]",
      "text/plain": [
       "<Figure size 1400x800 with 1 Axes>"
      ]
     },
     "metadata": {},
     "output_type": "display_data"
    }
   ],
   "source": [
    "df = pd.read_csv(\"Marketing Campaign Data All Accounts (2023-2024)(Detail1).csv\")\n",
    "\n",
    "plt.figure(figsize=(14,8))\n",
    "sns.histplot(x='Amount spent (AED)', data=df, palette='Set2')\n",
    "plt.title(\"Outbond type Count\")\n",
    "plt.xlabel(\"Outbond type\")\n",
    "plt.ylabel(\"Count\")\n",
    "plt.show()"
   ]
  },
  {
   "cell_type": "code",
   "execution_count": 48,
   "id": "81be14d2-e223-41e2-b04c-8ed3e2e308cb",
   "metadata": {},
   "outputs": [
    {
     "data": {
      "image/png": "[encoded data removed]",
      "text/plain": [
       "<Figure size 1000x600 with 1 Axes>"
      ]
     },
     "metadata": {},
     "output_type": "display_data"
    }
   ],
   "source": [
    "plt.figure(figsize=(10, 6))\n",
    "sns.boxplot(x='Amount spent (AED)', y='Result type', data=df,color='red')\n",
    "plt.title('Amount spent (AED) and results type')\n",
    "plt.xlabel('Amount spent (AED)')\n",
    "plt.ylabel('result type')\n",
    "plt.show()"
   ]
  }
 ],
 "metadata": {
  "kernelspec": {
   "display_name": "Python [conda env:base] *",
   "language": "python",
   "name": "conda-base-py"
  },
  "language_info": {
   "codemirror_mode": {
    "name": "ipython",
    "version": 3
   },
   "file_extension": ".py",
   "mimetype": "text/x-python",
   "name": "python",
   "nbconvert_exporter": "python",
   "pygments_lexer": "ipython3",
   "version": "3.13.5"
  }
 },
 "nbformat": 4,
 "nbformat_minor": 5
}
