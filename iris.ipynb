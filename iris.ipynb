{
 "cells": [
  {
   "cell_type": "code",
   "execution_count": null,
   "id": "c2e89db4-f3ad-40cd-843b-f74a21391e70",
   "metadata": {},
   "outputs": [],
   "source": [
    "import pandas as pd\n",
    "import numpy as np\n",
    "import matplotlib.pyplot as plt \n",
    "import seaborn as sns \n",
    "import plotly.express as px"
   ]
  },
  {
   "cell_type": "code",
   "execution_count": null,
   "id": "ac4215cb-5024-4e9a-81c4-1495652f5bbd",
   "metadata": {},
   "outputs": [],
   "source": [
    "from tkinter import Tk\n",
    "from tkinter.filedialog import askopenfilename\n",
    "\n",
    "Tk().withdraw()  # Prevents root window from showing\n",
    "filename = askopenfilename()\n",
    "print(\"IRIS.csv:\", filename)"
   ]
  },
  {
   "cell_type": "code",
   "execution_count": null,
   "id": "7676b29c-b1dc-41be-9832-4a01260cb46d",
   "metadata": {},
   "outputs": [],
   "source": [
    "import io\n",
    "iris = pd.read_csv((io.BytesIO(filename['IRIS.csv' ])))"
   ]
  },
  {
   "cell_type": "code",
   "execution_count": null,
   "id": "511b536f-cbd3-4e32-aeec-8504417762dd",
   "metadata": {},
   "outputs": [],
   "source": [
    "iris.head(10)"
   ]
  },
  {
   "cell_type": "code",
   "execution_count": null,
   "id": "128cdf65-92c1-4f42-9467-a615c58a80a9",
   "metadata": {},
   "outputs": [],
   "source": [
    "iris.isunll().sum()"
   ]
  },
  {
   "cell_type": "code",
   "execution_count": null,
   "id": "f17f32dd-3a7b-484e-83c2-d5aac299eded",
   "metadata": {},
   "outputs": [],
   "source": [
    "iris.describe()"
   ]
  },
  {
   "cell_type": "code",
   "execution_count": null,
   "id": "0642ab3f-c437-4d89-8206-8132bb1ee0c5",
   "metadata": {},
   "outputs": [],
   "source": [
    "from\n",
    "sklearn-preprocessing\n",
    "import LabelEncoder\n",
    "from\n",
    "pandas.core.dtypes.common import is_numeric_dtype\n",
    "le = LabelEncoder"
   ]
  },
  {
   "cell_type": "code",
   "execution_count": null,
   "id": "c003f118-f24e-4e9e-b942-4035820d8384",
   "metadata": {},
   "outputs": [],
   "source": [
    "for i in iris.columns:\n",
    "if is_numeric_dtype(iris[i]):\n",
    "continue\n",
    "else:\n",
    "iris[i] = le. fit_transform(iris[i])"
   ]
  },
  {
   "cell_type": "code",
   "execution_count": null,
   "id": "49348786-a0ee-498d-b7ec-44d3df7e8894",
   "metadata": {},
   "outputs": [],
   "source": [
    "iris.info()"
   ]
  },
  {
   "cell_type": "code",
   "execution_count": null,
   "id": "5e5e10dd-abc7-4a4d-af6a-92115440e6fe",
   "metadata": {},
   "outputs": [],
   "source": [
    "sns. countplot(x = 'species'\n",
    "', data - iris, palette = \"Set2\")\n",
    "plt. show()"
   ]
  },
  {
   "cell_type": "code",
   "execution_count": null,
   "id": "52afaa27-7e6e-4d79-ab38-56b631e59986",
   "metadata": {},
   "outputs": [],
   "source": [
    "sns.histplot(data = iris, x = iris.sepal length ,color = \"purple\")"
   ]
  },
  {
   "cell_type": "code",
   "execution_count": null,
   "id": "2cc0cd4c-f267-44ea-aa07-c019c2b7a0be",
   "metadata": {},
   "outputs": [],
   "source": [
    "sns. histplot(data = iris, x = iris.sepal width ,color = 'red')"
   ]
  },
  {
   "cell_type": "code",
   "execution_count": null,
   "id": "2d53b1d6-0489-41ed-ae15-a160134416e6",
   "metadata": {},
   "outputs": [],
   "source": [
    "corr = iris.corr()\n",
    "sns. heatmap(corr, annot = True)"
   ]
  },
  {
   "cell_type": "code",
   "execution_count": null,
   "id": "4396856e-58c8-42fc-acab-580925e8c1c8",
   "metadata": {},
   "outputs": [],
   "source": [
    "from sklearn.model selection import train_test_ split"
   ]
  },
  {
   "cell_type": "code",
   "execution_count": null,
   "id": "775a5b68-4b91-4d51-b8a5-b0f747738563",
   "metadata": {},
   "outputs": [],
   "source": [
    "iris.columns"
   ]
  },
  {
   "cell_type": "code",
   "execution_count": null,
   "id": "ba4ce49d-bfd5-4b3d-a67b-0e05175c0893",
   "metadata": {},
   "outputs": [],
   "source": [
    "x = iris.drop(['species'], axis=1)\n",
    "y = iris.species"
   ]
  },
  {
   "cell_type": "code",
   "execution_count": null,
   "id": "7ea36f79-f3d0-4752-9bea-fb705f50121f",
   "metadata": {},
   "outputs": [],
   "source": [
    "] X_train, X_test, Y_train, Y_test = train_test_split(X,y,test_size=0.3)"
   ]
  },
  {
   "cell_type": "code",
   "execution_count": null,
   "id": "6624d3a1-f1c0-4ab9-9af3-1bf80259ee2d",
   "metadata": {},
   "outputs": [],
   "source": [
    "from sklearn.linear_model import LogisticRegression"
   ]
  },
  {
   "cell_type": "code",
   "execution_count": null,
   "id": "8498a666-45cb-470c-a402-04a23a797c27",
   "metadata": {},
   "outputs": [],
   "source": [
    "Model = LogisticRegression()\n",
    "Model. fit(X_train,y_train)"
   ]
  },
  {
   "cell_type": "code",
   "execution_count": null,
   "id": "ec5287e2-6ea1-4707-b27c-e65ec67e6e73",
   "metadata": {},
   "outputs": [],
   "source": [
    "print (\"Score for Train data\", Model score(X_train, y_train))\n",
    "print(\"Score for Test data\", Model score(X_test, y_test))"
   ]
  },
  {
   "cell_type": "code",
   "execution_count": null,
   "id": "ca4966f6-1819-4b7e-ac3c-657a6db411f8",
   "metadata": {},
   "outputs": [],
   "source": [
    "from sklearn.ensemble import RandomForestClassifier"
   ]
  },
  {
   "cell_type": "code",
   "execution_count": null,
   "id": "d3a69545-7cb4-4898-a50a-4290d1044f93",
   "metadata": {},
   "outputs": [],
   "source": [
    "from sklearn.ensemble import RandomFoiestClassifier\n",
    "# Building machine learning model and training them\n",
    "Mode12 - RandomForestClassifiern_estimators = 300, random_state=100)\n",
    "Model2. fit(X_train,y_train)"
   ]
  },
  {
   "cell_type": "code",
   "execution_count": null,
   "id": "c22cad7f-c1fb-4f39-a3aa-0400482011e9",
   "metadata": {},
   "outputs": [],
   "source": [
    "print\"Score for Train data\", Mode12 score(X_train, y_train))\n",
    "print(\"Score for Test data\", Model2-score(X_test, y_test))"
   ]
  },
  {
   "cell_type": "code",
   "execution_count": null,
   "id": "1415de05-d42e-4054-bf88-3bd58a1cddb5",
   "metadata": {},
   "outputs": [],
   "source": [
    "from sklearn.neighbors import KNeighborsClassifier\n",
    "# Building machine learning model and training them\n",
    "Mode13 = KNeighborsClassifier()\n",
    "Model3. fit(X_train,y_train)"
   ]
  },
  {
   "cell_type": "code",
   "execution_count": null,
   "id": "4c8e219c-c477-4034-b41f-316c01fd292e",
   "metadata": {},
   "outputs": [],
   "source": [
    "print(\"Score for Train data\", Model3. score(X_train, y_train))\n",
    "print(\"Score for Test data\", Model3 score(X_test, y_test))"
   ]
  },
  {
   "cell_type": "code",
   "execution_count": null,
   "id": "8fb36427-b571-4a9d-b702-27dd0c842318",
   "metadata": {},
   "outputs": [],
   "source": []
  }
 ],
 "metadata": {
  "kernelspec": {
   "display_name": "Python [conda env:base] *",
   "language": "python",
   "name": "conda-base-py"
  },
  "language_info": {
   "codemirror_mode": {
    "name": "ipython",
    "version": 3
   },
   "file_extension": ".py",
   "mimetype": "text/x-python",
   "name": "python",
   "nbconvert_exporter": "python",
   "pygments_lexer": "ipython3",
   "version": "3.13.5"
  }
 },
 "nbformat": 4,
 "nbformat_minor": 5
}
